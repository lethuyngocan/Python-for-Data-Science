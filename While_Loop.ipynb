{
  "nbformat": 4,
  "nbformat_minor": 0,
  "metadata": {
    "colab": {
      "provenance": [],
      "authorship_tag": "ABX9TyNWacLQjlUo6bZeTxgKi/Pi",
      "include_colab_link": true
    },
    "kernelspec": {
      "name": "python3",
      "display_name": "Python 3"
    },
    "language_info": {
      "name": "python"
    }
  },
  "cells": [
    {
      "cell_type": "markdown",
      "metadata": {
        "id": "view-in-github",
        "colab_type": "text"
      },
      "source": [
        "<a href=\"https://colab.research.google.com/github/lethuyngocan/Python-for-Data-Science/blob/master/While_Loop.ipynb\" target=\"_parent\"><img src=\"https://colab.research.google.com/assets/colab-badge.svg\" alt=\"Open In Colab\"/></a>"
      ]
    },
    {
      "cell_type": "markdown",
      "source": [
        "# **While Loop in Python**\n",
        "A while loop is used to execute a block of statements repeadly until a given condition is satisfied."
      ],
      "metadata": {
        "id": "OWiW9mBDcRVo"
      }
    },
    {
      "cell_type": "code",
      "source": [
        "# program to display numbers from 1 to 5\n",
        "\n",
        "# initialize the variable\n",
        "i = 1\n",
        "n = 5\n",
        "\n",
        "# while loop from i = 1 to 5\n",
        "while i <= n:\n",
        "    print(i)\n",
        "    i = i + 1"
      ],
      "metadata": {
        "colab": {
          "base_uri": "https://localhost:8080/"
        },
        "id": "8HnZL_R_fzBa",
        "outputId": "c2c1d7b1-50f2-46e0-c67c-e36c54d9e028"
      },
      "execution_count": null,
      "outputs": [
        {
          "output_type": "stream",
          "name": "stdout",
          "text": [
            "1\n",
            "2\n",
            "3\n",
            "4\n",
            "5\n"
          ]
        }
      ]
    },
    {
      "cell_type": "code",
      "source": [
        "# program to calculate the sum of numbers\n",
        "# until the user enters zero\n",
        "total = 0\n",
        "number = 1\n",
        "\n",
        "while number != 0:\n",
        "    number = int(input(\"Enter a number9: \"))\n",
        "    total += number\n",
        "\n",
        "print(\"The sum of the numbers is:\", total)\n"
      ],
      "metadata": {
        "colab": {
          "base_uri": "https://localhost:8080/"
        },
        "id": "elF_d3vAA-ax",
        "outputId": "e656c075-2ca1-47d4-a090-3a5f758c7710"
      },
      "execution_count": null,
      "outputs": [
        {
          "output_type": "stream",
          "name": "stdout",
          "text": [
            "Enter a number: 56\n",
            "Enter a number: 9\n",
            "Enter a number: 0\n",
            "The sum of the numbers is: 65\n"
          ]
        }
      ]
    },
    {
      "cell_type": "code",
      "source": [
        "total= 0\n",
        "number = int(input(\"Enter a number: \"))\n",
        "\n",
        "while number != 0:\n",
        "  total += number\n",
        "\n",
        "  number = int(input(\"Enter a number: \"))\n",
        "\n",
        "print(\"The sum of the numbers is:\", total)"
      ],
      "metadata": {
        "colab": {
          "base_uri": "https://localhost:8080/"
        },
        "id": "FMgrjQh2EDes",
        "outputId": "4bf2f9e0-51ed-4416-aa76-e3bafae8c5ac"
      },
      "execution_count": null,
      "outputs": [
        {
          "output_type": "stream",
          "name": "stdout",
          "text": [
            "Enter a number: 5\n",
            "Enter a number: 9\n",
            "Enter a number: 0\n",
            "The sum of the numbers is: 14\n"
          ]
        }
      ]
    },
    {
      "cell_type": "markdown",
      "source": [
        "## Python while loop with else:"
      ],
      "metadata": {
        "id": "oEi_f2fLE09T"
      }
    },
    {
      "cell_type": "code",
      "source": [
        "counter = int(input('enter a number:'))\n",
        "\n",
        "while counter < 10:\n",
        "    print('Inside loop')\n",
        "    counter = counter + 1\n",
        "else:\n",
        "    print('Inside else')"
      ],
      "metadata": {
        "colab": {
          "base_uri": "https://localhost:8080/"
        },
        "id": "iA9hi3njE35w",
        "outputId": "e8c8c8e4-d4e0-42e2-9a15-595bec50b13f"
      },
      "execution_count": null,
      "outputs": [
        {
          "output_type": "stream",
          "name": "stdout",
          "text": [
            "enter a number:3\n",
            "Inside loop\n",
            "Inside loop\n",
            "Inside loop\n",
            "Inside loop\n",
            "Inside loop\n",
            "Inside loop\n",
            "Inside loop\n",
            "Inside else\n"
          ]
        }
      ]
    },
    {
      "cell_type": "code",
      "source": [],
      "metadata": {
        "id": "k8C27CSdE6wU"
      },
      "execution_count": null,
      "outputs": []
    },
    {
      "cell_type": "markdown",
      "source": [
        "# Python while loop with break:"
      ],
      "metadata": {
        "id": "9Zs94wmAF-It"
      }
    },
    {
      "cell_type": "code",
      "source": [
        "counter = int(input('enter a number:'))\n",
        "\n",
        "while counter < 10:\n",
        "    # loop ends because of break\n",
        "    # the else part is not executed\n",
        "    if counter == 1:\n",
        "        break\n",
        "\n",
        "    print('Inside loop')\n",
        "    counter = counter + 1\n",
        "else:\n",
        "    print('Inside else')"
      ],
      "metadata": {
        "colab": {
          "base_uri": "https://localhost:8080/"
        },
        "id": "2Tvmn_h2GUr7",
        "outputId": "44c740aa-4a8d-4cc1-9feb-1e06a73881a9"
      },
      "execution_count": null,
      "outputs": [
        {
          "output_type": "stream",
          "name": "stdout",
          "text": [
            "enter a number:4\n",
            "Inside loop\n",
            "Inside loop\n",
            "Inside loop\n",
            "Inside loop\n",
            "Inside loop\n",
            "Inside loop\n",
            "Inside else\n"
          ]
        }
      ]
    },
    {
      "cell_type": "code",
      "source": [
        "counter = int(input('enter a number:'))\n",
        "\n",
        "while counter < 10:\n",
        "    # loop ends because of break\n",
        "    # the else part is not executed\n",
        "    if counter == 1:\n",
        "        break\n",
        "\n",
        "    print('Inside loop')\n",
        "    counter = counter + 1\n",
        "else:\n",
        "    print('Inside else')"
      ],
      "metadata": {
        "colab": {
          "base_uri": "https://localhost:8080/"
        },
        "id": "189L24lpGq3Z",
        "outputId": "e2f7d06b-bc9c-4e1d-bccf-b34022c2d2dd"
      },
      "execution_count": null,
      "outputs": [
        {
          "name": "stdout",
          "output_type": "stream",
          "text": [
            "enter a number:1\n"
          ]
        }
      ]
    },
    {
      "cell_type": "code",
      "source": [],
      "metadata": {
        "id": "VpIYqf_WGuM8"
      },
      "execution_count": null,
      "outputs": []
    }
  ]
}
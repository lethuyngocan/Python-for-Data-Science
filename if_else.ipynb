{
  "nbformat": 4,
  "nbformat_minor": 0,
  "metadata": {
    "colab": {
      "provenance": []
    },
    "kernelspec": {
      "name": "python3",
      "display_name": "Python 3"
    },
    "language_info": {
      "name": "python"
    }
  },
  "cells": [
    {
      "cell_type": "markdown",
      "source": [
        "# **Example: Check if student passed the exam**\n",
        "Suppose you are a university student and to pass the examination you need to score 50 or more. Lets look at a program to check if you passed the exam."
      ],
      "metadata": {
        "id": "OWiW9mBDcRVo"
      }
    },
    {
      "cell_type": "code",
      "source": [
        "score = int(input(\"Enter a number: \"))\n",
        "\n",
        "if score >= 50:\n",
        "   print(\"You have passed your exams.\")\n",
        "   print(\"Congratulations!\")\n",
        ""
      ],
      "metadata": {
        "colab": {
          "base_uri": "https://localhost:8080/"
        },
        "id": "oz1tXQsccnrP",
        "outputId": "86e195dd-97e3-4c60-e783-3f718a41ffee"
      },
      "execution_count": 3,
      "outputs": [
        {
          "output_type": "stream",
          "name": "stdout",
          "text": [
            "Enter a number: 56\n",
            "You have passed your exams.\n",
            "Congratulations!\n"
          ]
        }
      ]
    },
    {
      "cell_type": "markdown",
      "source": [
        "Otherwise (number smaller than 50):"
      ],
      "metadata": {
        "id": "yIufjsb8c5vk"
      }
    },
    {
      "cell_type": "code",
      "source": [
        "score = int(input(\"Enter a number: \"))\n",
        "\n",
        "if score >= 50:\n",
        "   print(\"You have passed your exams.\")\n",
        "   print(\"Congratulations!\")\n",
        ""
      ],
      "metadata": {
        "colab": {
          "base_uri": "https://localhost:8080/"
        },
        "id": "oMJDczkAc6fU",
        "outputId": "121f0311-10c9-43ba-b706-506126fe2b35"
      },
      "execution_count": 4,
      "outputs": [
        {
          "name": "stdout",
          "output_type": "stream",
          "text": [
            "Enter a number: 43\n"
          ]
        }
      ]
    },
    {
      "cell_type": "markdown",
      "source": [
        "As we can see, there is no output as the if block is skipped. We can add one more if statement to handle this as:\n",
        "\n"
      ],
      "metadata": {
        "id": "reQNkpFcdLQ5"
      }
    },
    {
      "cell_type": "code",
      "source": [
        "score = int(input(\"Enter a number: \"))\n",
        "\n",
        "if score >= 50:\n",
        "   print(\"You have passed your exam.\")\n",
        "   print(\"Congratulations!\")\n",
        "\n",
        "if score < 50:\n",
        "   print(\"Sorry, you have failed your exam.\")"
      ],
      "metadata": {
        "colab": {
          "base_uri": "https://localhost:8080/"
        },
        "id": "aFGmVKdQdL8S",
        "outputId": "3409eb43-9f34-451b-8832-c192f1cd7059"
      },
      "execution_count": 5,
      "outputs": [
        {
          "output_type": "stream",
          "name": "stdout",
          "text": [
            "Enter a number: 35\n",
            "Sorry, you have failed your exam.\n"
          ]
        }
      ]
    },
    {
      "cell_type": "markdown",
      "source": [
        "# Python if...else statement\n",
        "The if statement can have an optional else clause to run when test_condition is False. The syntax of if..else is:"
      ],
      "metadata": {
        "id": "foPLpt_kdi43"
      }
    },
    {
      "cell_type": "code",
      "source": [
        "score = 35\n",
        "\n",
        "if score >= 50:\n",
        "   print(\"You have passed your exam.\")\n",
        "   print(\"Congratulations!\")\n",
        "else:\n",
        "   print(\"Sorry, you have failed your exam.\")"
      ],
      "metadata": {
        "colab": {
          "base_uri": "https://localhost:8080/"
        },
        "id": "cHA78ZRldlcE",
        "outputId": "4273edda-2cd8-46ee-e2d2-f474b87a750d"
      },
      "execution_count": 6,
      "outputs": [
        {
          "output_type": "stream",
          "name": "stdout",
          "text": [
            "Sorry, you have failed your exam.\n"
          ]
        }
      ]
    },
    {
      "cell_type": "markdown",
      "source": [
        "The marks scored by a student is from 0 to 100. We can add the elif to above program to validate the marks entered as:\n",
        "\n"
      ],
      "metadata": {
        "id": "GG_qa8r9d4Qk"
      }
    },
    {
      "cell_type": "code",
      "source": [
        "score = int(input('enter a number:'))\n",
        "\n",
        "if score > 100 or score < 0:\n",
        "   print(\"Score is invalid.\")\n",
        "elif score >= 50:\n",
        "   print(\"You have passed your exam.\")\n",
        "   print(\"Congratulations!\")\n",
        "else:\n",
        "   print(\"Sorry, you have failed your exam.\")"
      ],
      "metadata": {
        "colab": {
          "base_uri": "https://localhost:8080/"
        },
        "id": "yxdDR8UNd42w",
        "outputId": "1695afd3-c01e-4615-94cf-f1c4c2d03229"
      },
      "execution_count": 7,
      "outputs": [
        {
          "output_type": "stream",
          "name": "stdout",
          "text": [
            "enter a number:-5\n",
            "Score is invalid.\n"
          ]
        }
      ]
    },
    {
      "cell_type": "code",
      "source": [
        "score = int(input('enter a number:'))\n",
        "\n",
        "if score > 100 or score < 0:\n",
        "   print(\"Score is invalid.\")\n",
        "elif score >= 50:\n",
        "   print(\"You have passed your exam.\")\n",
        "   print(\"Congratulations!\")\n",
        "else:\n",
        "   print(\"Sorry, you have failed your exam.\")"
      ],
      "metadata": {
        "colab": {
          "base_uri": "https://localhost:8080/"
        },
        "id": "M5Wi3xkoeS66",
        "outputId": "76c6fb5c-f754-4f4e-af97-b6ec848eb8e4"
      },
      "execution_count": 8,
      "outputs": [
        {
          "output_type": "stream",
          "name": "stdout",
          "text": [
            "enter a number:60\n",
            "You have passed your exam.\n",
            "Congratulations!\n"
          ]
        }
      ]
    },
    {
      "cell_type": "code",
      "source": [
        "score = int(input('enter a number:'))\n",
        "\n",
        "if score > 100 or score < 0:\n",
        "   print(\"Score is invalid.\")\n",
        "elif score >= 50:\n",
        "   print(\"You have passed your exam.\")\n",
        "   print(\"Congratulations!\")\n",
        "else:\n",
        "   print(\"Sorry, you have failed your exam.\")"
      ],
      "metadata": {
        "colab": {
          "base_uri": "https://localhost:8080/"
        },
        "id": "UNEJmS7zeXUY",
        "outputId": "a8952700-ea75-4d56-d718-17ea9d001a3e"
      },
      "execution_count": 9,
      "outputs": [
        {
          "output_type": "stream",
          "name": "stdout",
          "text": [
            "enter a number:30\n",
            "Sorry, you have failed your exam.\n"
          ]
        }
      ]
    },
    {
      "cell_type": "markdown",
      "source": [
        "# **Task**\n",
        "To create this program, create a variable named number and assign a float value to it based on the user input. Then using a if statement, check if the number variable is positive or negative or 0.\n",
        "\n",
        "* If number is positive, print \"The number is positive\"\n",
        "* If number is 0, print \"The number is 0\"\n",
        "* If number is negative, print \"The number is negative\""
      ],
      "metadata": {
        "id": "Tpq2AoMIexYy"
      }
    },
    {
      "cell_type": "code",
      "source": [
        "num = int(input('enter number here:'))\n",
        "\n",
        "if num > 0:\n",
        "  print('The number is positive')\n",
        "elif num ==0:\n",
        "  print('The number is 0')\n",
        "else:\n",
        "  print('The number is negative')\n"
      ],
      "metadata": {
        "colab": {
          "base_uri": "https://localhost:8080/"
        },
        "id": "KHyIWCXtecq3",
        "outputId": "99366401-7ce6-4182-ad2b-ecb7ef6f1c5f"
      },
      "execution_count": 13,
      "outputs": [
        {
          "output_type": "stream",
          "name": "stdout",
          "text": [
            "enter number here:100\n",
            "The number is positive\n"
          ]
        }
      ]
    },
    {
      "cell_type": "code",
      "source": [],
      "metadata": {
        "id": "8HnZL_R_fzBa"
      },
      "execution_count": null,
      "outputs": []
    }
  ]
}